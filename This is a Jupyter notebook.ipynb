{
 "cells": [
  {
   "cell_type": "markdown",
   "id": "5c8e9074",
   "metadata": {},
   "source": [
    "# This is a from a tutorial about putting content on GitHub\n",
    "\n",
    "I hope you enjoy it."
   ]
  },
  {
   "cell_type": "code",
   "execution_count": 3,
   "id": "3e49fbde",
   "metadata": {},
   "outputs": [
    {
     "name": "stdout",
     "output_type": "stream",
     "text": [
      "Welcome to my notebook!\n"
     ]
    }
   ],
   "source": [
    "print(\"Welcome to my notebook!\")"
   ]
  },
  {
   "cell_type": "code",
   "execution_count": null,
   "id": "93700618",
   "metadata": {},
   "outputs": [],
   "source": []
  }
 ],
 "metadata": {
  "kernelspec": {
   "display_name": "Python 3 (ipykernel)",
   "language": "python",
   "name": "python3"
  },
  "language_info": {
   "codemirror_mode": {
    "name": "ipython",
    "version": 3
   },
   "file_extension": ".py",
   "mimetype": "text/x-python",
   "name": "python",
   "nbconvert_exporter": "python",
   "pygments_lexer": "ipython3",
   "version": "3.9.7"
  }
 },
 "nbformat": 4,
 "nbformat_minor": 5
}
